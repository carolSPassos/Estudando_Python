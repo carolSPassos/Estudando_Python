{
  "nbformat": 4,
  "nbformat_minor": 0,
  "metadata": {
    "colab": {
      "provenance": [],
      "authorship_tag": "ABX9TyMplW18+ThXjHnWHf0o2d6G",
      "include_colab_link": true
    },
    "kernelspec": {
      "name": "python3",
      "display_name": "Python 3"
    },
    "language_info": {
      "name": "python"
    }
  },
  "cells": [
    {
      "cell_type": "markdown",
      "metadata": {
        "id": "view-in-github",
        "colab_type": "text"
      },
      "source": [
        "<a href=\"https://colab.research.google.com/github/carolSPassos/Estudando_Python/blob/main/listaexercicio_02.ipynb\" target=\"_parent\"><img src=\"https://colab.research.google.com/assets/colab-badge.svg\" alt=\"Open In Colab\"/></a>"
      ]
    },
    {
      "cell_type": "code",
      "execution_count": null,
      "metadata": {
        "colab": {
          "base_uri": "https://localhost:8080/"
        },
        "id": "bJPSkhL9WmiQ",
        "outputId": "bd515d35-1ba3-4dbb-8280-b194b1a9a40f"
      },
      "outputs": [
        {
          "output_type": "stream",
          "name": "stdout",
          "text": [
            "n1: 5\n",
            "n2: 22\n",
            "O número maior é:  22\n"
          ]
        }
      ],
      "source": [
        "#Faça um Programa que peça dois números e imprima o maior deles\n",
        "\n",
        "n1 = int(input(\"n1: \"))\n",
        "n2 = int(input(\"n2: \"))\n",
        "\n",
        "if n1 > n2:\n",
        "  print(n1)\n",
        "else:\n",
        "  print(\"O número maior é: \",n2)"
      ]
    },
    {
      "cell_type": "code",
      "source": [
        "#Faça um Programa que peça um valor e mostre na tela se \n",
        "# valor é positivo ou negativo.\n",
        "\n",
        "numero = int(input(\"numero: \"))\n",
        "\n",
        "if numero < 0:\n",
        "  print(\"valor negativo\")\n",
        "else:\n",
        "  print(\"valor positivo\")"
      ],
      "metadata": {
        "colab": {
          "base_uri": "https://localhost:8080/"
        },
        "id": "ngHLq_JRXdr2",
        "outputId": "084839a3-240e-41e8-c5cd-49efcbaca842"
      },
      "execution_count": null,
      "outputs": [
        {
          "output_type": "stream",
          "name": "stdout",
          "text": [
            "numero: -2\n",
            "valor negativo\n"
          ]
        }
      ]
    },
    {
      "cell_type": "code",
      "source": [
        "#Faça um Programa que verifique se uma letra digitada é \"F\" ou \"M\". \n",
        "#Conforme a letra escrever: F - Feminino, M - Masculino, Sexo Inválido.()\n",
        "\n",
        "sexo = input(\"F - feminino / M - masculino: \")\n",
        "\n",
        "\n",
        "if sexo.lower() == \"F\".lower():\n",
        "  print(\"feminino\")\n",
        "elif sexo.lower() == \"M\".lower():\n",
        "  print(\"masculino\")\n",
        "else:\n",
        "  print(\"sexo inválido\")"
      ],
      "metadata": {
        "colab": {
          "base_uri": "https://localhost:8080/"
        },
        "id": "yY7XquYQZdaY",
        "outputId": "46fd9ea9-0a82-4486-e87f-71e1e3ccc9e3"
      },
      "execution_count": null,
      "outputs": [
        {
          "output_type": "stream",
          "name": "stdout",
          "text": [
            "F - feminino / M - masculino: S\n",
            "sexo inválido\n"
          ]
        }
      ]
    },
    {
      "cell_type": "code",
      "source": [
        "#Faça um Programa que verifique se uma letra digitada é vogal ou consoante.\n",
        "\n",
        "letra = input(\"digite uma letra: \")\n",
        "\n",
        "if letra.isalpha():\n",
        "  if letra in 'AaEeIiOoUu':\n",
        "    print(\"A letra é uma vogal.\")\n",
        "  else:\n",
        "    print(\"A letra é uma consoante.\")\n",
        "\n",
        "elif letra.isnumeric():\n",
        "  print(\"não é uma letra.\")\n",
        "\n",
        "else:\n",
        "  print(\"é caractere especial\")"
      ],
      "metadata": {
        "colab": {
          "base_uri": "https://localhost:8080/"
        },
        "id": "vUQgdmuhc7JA",
        "outputId": "f1a1e130-0dec-4ce9-9b56-7a83f5b76b5f"
      },
      "execution_count": null,
      "outputs": [
        {
          "output_type": "stream",
          "name": "stdout",
          "text": [
            "digite uma letra: k\n",
            "A letra é uma consoante.\n"
          ]
        }
      ]
    },
    {
      "cell_type": "code",
      "source": [
        "# Faça um programa para a leitura de duas notas parciais de um aluno. O programa deve calcular a média alcançada por aluno e apresentar:\n",
        "#A mensagem \"Aprovado\", se a média alcançada for maior ou igual a sete;\n",
        "#A mensagem \"Reprovado\", se a média for menor do que sete;\n",
        "#A mensagem \"Aprovado com Distinção\", se a média for igual a dez\n",
        "\n",
        "nota1 = float(input(\"nota 1: \"))\n",
        "nota2 = float(input(\"nota 2: \"))\n",
        "\n",
        "media = (nota1 + nota2) / 2\n",
        "\n",
        "print(\"Sua média é: \",media)\n",
        "if media >= 7.0 and media <= 9.9:\n",
        "  print(\"Aprovado!\")\n",
        "elif media < 7.0:\n",
        "  print(\"Reprovado!\")\n",
        "elif media == 10:\n",
        "  print(\"Aprovado com distinção\")"
      ],
      "metadata": {
        "colab": {
          "base_uri": "https://localhost:8080/"
        },
        "id": "tJZeLkcLIaCh",
        "outputId": "acc09ae3-2e6f-424f-9238-eae5f470f696"
      },
      "execution_count": null,
      "outputs": [
        {
          "output_type": "stream",
          "name": "stdout",
          "text": [
            "nota 1: 5.6\n",
            "nota 2: 9\n",
            "Sua média é:  7.3\n",
            "Aprovado!\n"
          ]
        }
      ]
    },
    {
      "cell_type": "code",
      "source": [
        "#Faça um Programa que leia três números e mostre o maior deles.\n",
        "\n",
        "numero1 = int(input(\"primeiro número: \"))\n",
        "numero2 = int(input(\"segundo número: \"))\n",
        "numero3 = int(input(\"terceiro número: \"))\n",
        "\n",
        "if numero1 > numero2 and numero1 > numero3:\n",
        "  print(\"o maior é: \", numero1)\n",
        "elif numero2 > numero1 and numero2 > numero3:\n",
        "  print(\"o maior é: \", numero2)\n",
        "else:\n",
        "  print(\"o maior é: \", numero3)"
      ],
      "metadata": {
        "colab": {
          "base_uri": "https://localhost:8080/"
        },
        "id": "gXCuZSsfKhkU",
        "outputId": "49b5509b-4b66-4b1c-dc97-01067ed13181"
      },
      "execution_count": null,
      "outputs": [
        {
          "output_type": "stream",
          "name": "stdout",
          "text": [
            "primeiro número: 2\n",
            "segundo número: 8\n",
            "terceiro número: 5\n",
            "o maior é:  8\n"
          ]
        }
      ]
    },
    {
      "cell_type": "code",
      "source": [
        "from re import X\n",
        "#Faça um Programa que leia três números e mostre o maior e o menor deles.\n",
        "\n",
        "x1 = int(input(\"numero: \"))\n",
        "x2 = int(input(\"numero: \"))\n",
        "x3 = int(input(\"numero: \"))\n",
        "\n",
        "if x1 < x2 and x1 < x3 and x2 < x3:\n",
        "  print(\"o maior é: \", x3)\n",
        "  print(\"o menor é: \", x1)\n",
        "elif x2 < x1 and x2 < x3 and x3 < x1:\n",
        "  print(\"o maior é: \", x1 )\n",
        "  print(\"o menor é: \", x2)\n",
        "else:\n",
        "  print(\"o maior é: \", x2)\n",
        "  print(\"o menor é: \", x3)"
      ],
      "metadata": {
        "colab": {
          "base_uri": "https://localhost:8080/"
        },
        "id": "KPh6qfH4OvUz",
        "outputId": "9819d902-b0e2-4b7e-a131-52895ace9234"
      },
      "execution_count": null,
      "outputs": [
        {
          "output_type": "stream",
          "name": "stdout",
          "text": [
            "numero: 8\n",
            "numero: 3\n",
            "numero: 5\n",
            "o maior é:  8\n",
            "o menor é:  3\n"
          ]
        }
      ]
    },
    {
      "cell_type": "code",
      "source": [
        "#Faça um programa que pergunte o preço de três produtos e informe qual produto você deve comprar, sabendo que a decisão é sempre pelo mais barato.\n",
        "\n",
        "produto1 = float(input(\"preço 1: \"))\n",
        "produto2 = float(input(\"preço 2: \"))\n",
        "produto3 = float(input(\"preço 3: \"))\n",
        "\n",
        "if produto1 < produto2 and produto1 < produto3:\n",
        "  print(\"compra o produto 1\")\n",
        "elif produto2 < produto1 and produto2 < produto3:\n",
        "  print(\"compra o produto 2\")\n",
        "else:\n",
        "  print(\"compra o produto 3\")"
      ],
      "metadata": {
        "colab": {
          "base_uri": "https://localhost:8080/"
        },
        "id": "BdTTIDyUR6Bz",
        "outputId": "197bf23c-8f3e-41c7-a4f4-b1263af57e52"
      },
      "execution_count": null,
      "outputs": [
        {
          "output_type": "stream",
          "name": "stdout",
          "text": [
            "preço 1: 55.6\n",
            "preço 2: 89.4\n",
            "preço 3: 99.7\n",
            "compra o produto 1\n"
          ]
        }
      ]
    },
    {
      "cell_type": "code",
      "source": [
        "#Faça um Programa que leia três números e mostre-os em ordem decrescente.\n",
        "\n",
        "numeros = []\n",
        "for i in range(4):\n",
        "    numeros.append(int(input(\"Número: \")))\n",
        "numeros.sort(reverse = True)\n",
        "print(numeros)"
      ],
      "metadata": {
        "id": "mDOtw6UtTidM",
        "colab": {
          "base_uri": "https://localhost:8080/"
        },
        "outputId": "5519c891-1ce2-41d6-f454-bc9248ce2896"
      },
      "execution_count": null,
      "outputs": [
        {
          "output_type": "stream",
          "name": "stdout",
          "text": [
            "Número: 44\n",
            "Número: 5\n",
            "Número: 23\n",
            "Número: 8\n",
            "[44, 23, 8, 5]\n"
          ]
        }
      ]
    },
    {
      "cell_type": "code",
      "source": [
        "#Faça um Programa que pergunte em que turno você estuda. Peça para digitar M-matutino ou V-Vespertino ou N- Noturno.\n",
        "# Imprima a mensagem \"Bom Dia!\", \"Boa Tarde!\" ou \"Boa Noite!\" ou \"Valor Inválido!\", conforme o caso.\n",
        "\n",
        "turno = input(\"M-matutino ou V-Vespertino ou N- Noturno: \")\n",
        "\n",
        "if turno.lower() == \"m\".lower():\n",
        "  print(\"Bom dia!\")\n",
        "elif turno.lower() == \"v\".lower():\n",
        "  print(\"Boa tarde!\")\n",
        "elif turno.lower() == \"n\".lower():\n",
        "  print(\"Boa noite!\")\n",
        "else:\n",
        "  print(\"valor inválido!\")"
      ],
      "metadata": {
        "colab": {
          "base_uri": "https://localhost:8080/"
        },
        "id": "xKoRzJYZgeF3",
        "outputId": "37e1950a-9dbd-4d31-db85-c4e28d51e504"
      },
      "execution_count": null,
      "outputs": [
        {
          "output_type": "stream",
          "name": "stdout",
          "text": [
            "M-matutino ou V-Vespertino ou N- Noturno: n\n",
            "Boa noite!\n"
          ]
        }
      ]
    },
    {
      "cell_type": "code",
      "source": [
        "#As Organizações Tabajara resolveram dar um aumento de salário aos seus colaboradores e lhe contraram para desenvolver o programa que calculará os reajustes.\n",
        "#Faça um programa que recebe o salário de um colaborador e o reajuste segundo o seguinte critério, baseado no salário atual:\n",
        "#salários até R$ 280,00 (incluindo) : aumento de 20%\n",
        "#salários entre R$ 280,00 e R$ 700,00 : aumento de 15%\n",
        "#salários entre R$ 700,00 e R$ 1500,00 : aumento de 10%\n",
        "#salários de R$ 1500,00 em diante : aumento de 5% Após o aumento ser realizado, informe na tela:\n",
        "#o salário antes do reajuste;\n",
        "#o percentual de aumento aplicado;\n",
        "#o valor do aumento;\n",
        "#o novo salário, após o aumento\n",
        "\n",
        "salario = float(input(\"salario: \"))\n",
        "\n",
        "if salario <= 280:\n",
        "\n",
        "  aumento = salario * (20/100)\n",
        "  novoSalario = salario + aumento\n",
        "  print(\"Seu salario era: R$ %.2f\" %salario)\n",
        "  print(\"Voce teve um aumento de 20%% que aumentou: R$ %.2f\" %aumento)\n",
        "  print(\"Seu novo salario é de R$ %.2f\" %novoSalario)\n",
        "\n",
        "elif salario > 280.00 and salario <= 700.00:\n",
        "\n",
        "  aumento = salario * (15/100)\n",
        "  novoSalario = salario + aumento\n",
        "  print(\"Voce teve um aumento de 15%% que aumentou: R$ %.2f\" %aumento)\n",
        "  print(\"Seu novo salario é de R$ %.2f\" %novoSalario)\n",
        "\n",
        "elif salario > 700.00 and salario <= 1500:\n",
        "\n",
        "  aumento = salario * (10/100)\n",
        "  novoSalario = salario + aumento\n",
        "  print(\"Voce teve um aumento de 10%% que aumentou: R$ %.2f\" %aumento)\n",
        "  print(\"Seu novo salario é de R$ %.2f\" %novoSalario)\n",
        "\n",
        "else:\n",
        "  \n",
        "  aumento = salario * (5/100)\n",
        "  novoSalario = salario + aumento\n",
        "  print(\"Voce teve um aumento de 5%% que aumentou: R$ %.2f\" %aumento)\n",
        "  print(\"Seu novo salario é de R$ %.2f\" %novoSalario)\n"
      ],
      "metadata": {
        "colab": {
          "base_uri": "https://localhost:8080/"
        },
        "id": "vpO6Akt4sLzS",
        "outputId": "dc794d72-8b27-4185-9afd-584b57f7bad7"
      },
      "execution_count": null,
      "outputs": [
        {
          "output_type": "stream",
          "name": "stdout",
          "text": [
            "salario: 500\n",
            "Voce teve um aumento de 15% que aumentou: R$ 75.00\n",
            "Seu novo salario é de R$ 575.00\n"
          ]
        }
      ]
    },
    {
      "cell_type": "code",
      "source": [
        "#Faça um Programa que leia um número e exiba o dia correspondente da semana. \n",
        "#(1-Domingo, 2- Segunda, etc.), se digitar outro valor deve aparecer valor inválido.\n",
        "\n",
        "dia_semana = int(input(\"dia semana: \"))\n",
        "\n",
        "if dia_semana == 1:\n",
        "  print(\"1 - Domingo\")\n",
        "elif dia_semana == 2:\n",
        "  print(\"2 - Segunda\")\n",
        "elif dia_semana == 3:\n",
        "  print(\"3 - Terça\")\n",
        "elif dia_semana == 4:\n",
        "  print(\"4 - Quarta\")\n",
        "elif dia_semana == 5:\n",
        "  print(\"5 - Quinta\")\n",
        "elif dia_semana == 6:\n",
        "  print(\"6 - Sexta\")\n",
        "elif dia_semana == 7:\n",
        "  print(\"7 - Sábado\")\n",
        "else:\n",
        "  print(\"Valor Inválido\")\n"
      ],
      "metadata": {
        "colab": {
          "base_uri": "https://localhost:8080/"
        },
        "id": "ocEfUyb9Fkty",
        "outputId": "6db41374-bc02-4196-ae44-830eb96a3775"
      },
      "execution_count": null,
      "outputs": [
        {
          "output_type": "stream",
          "name": "stdout",
          "text": [
            "dia semana: 4\n",
            "4 - Quarta\n"
          ]
        }
      ]
    },
    {
      "cell_type": "code",
      "source": [
        "#Faça um programa que lê as duas notas parciais obtidas por um aluno numa disciplina ao longo de um semestre, \n",
        "# calcule a sua média. A atribuição de conceitos obedece à tabela abaixo:\n",
        "#Média de Aproveitamento  Conceito  Entre 9.0 e 10.0        A\n",
        "#Entre 7.5 e 9.0         B\n",
        "#Entre 6.0 e 7.5         C\n",
        "#Entre 4.0 e 6.0         D\n",
        "#Entre 4.0 e zero        E\n",
        "\n",
        "nota_1 = float(input(\"Nota 1: \"))\n",
        "nota_2 = float(input(\"Nota 2: \"))\n",
        "\n",
        "media = (nota_1 + nota_2) / 2\n",
        "\n",
        "if media >= 9.0 and media <=10:\n",
        "  print(\"Conceito A\")\n",
        "elif media >= 7.5 and media < 9.0:\n",
        "  print(\"Conceito B\")\n",
        "elif media >= 6.0 and media < 7.5:\n",
        "  print(\"Conceito C\")\n",
        "elif media >= 4.0 and media < 7.5:\n",
        "  print(\"Conceito D\")\n",
        "elif media >= 0.0 and media <4.0:\n",
        "  print(\"Conceito E\")\n",
        "else:\n",
        "  print(\"media invalida\")"
      ],
      "metadata": {
        "colab": {
          "base_uri": "https://localhost:8080/"
        },
        "id": "YDcqcxWaHaPL",
        "outputId": "82a143ed-fc84-4f12-ca55-c7926463d25e"
      },
      "execution_count": null,
      "outputs": [
        {
          "output_type": "stream",
          "name": "stdout",
          "text": [
            "Nota 1: 5.5\n",
            "Nota 2: 10\n",
            "Conceito B\n"
          ]
        }
      ]
    },
    {
      "cell_type": "code",
      "source": [
        "#Faça um Programa que peça um número inteiro e determine se ele é par ou impar. Dica: utilize o operador módulo (resto da divisão).\n",
        "\n",
        "numero_inteiro = int(input(\"Qual seu numero? \"))\n",
        "\n",
        "if numero_inteiro % 2 == 0:\n",
        "  print(\"número par\")\n",
        "else:\n",
        "  print(\"número ímpar\")"
      ],
      "metadata": {
        "id": "SUBavjIBS7b1"
      },
      "execution_count": null,
      "outputs": []
    },
    {
      "cell_type": "code",
      "source": [
        "\"\"\"Faça um Programa que peça os 3 lados de um triângulo. O programa deverá informar se os valores podem ser um triângulo. Indique, caso os lados formem um triângulo, se o mesmo é: equilátero, isósceles ou escaleno.\n",
        "Dicas:\n",
        "Três lados formam um triângulo quando a soma de quaisquer dois lados for maior que o terceiro;\n",
        "Triângulo Equilátero: três lados iguais;\n",
        "Triângulo Isósceles: quaisquer dois lados iguais;\n",
        "Triângulo Escaleno: três lados diferentes;\"\"\"\n",
        "\n",
        "lado_1 = int(input(\"Lado 1: \"))\n",
        "lado_2 = int(input(\"lado 2: \"))\n",
        "lado_3 = int(input(\"Lado 3: \"))\n",
        "\n",
        "if (lado_1 + lado_2) > lado_3:\n",
        "  print(\"Há um triangulo\")\n",
        "elif (lado_1 + lado_3) > lado_2:\n",
        "  print(\"Há um triangulo\")\n",
        "elif (lado_2 + lado_3) > lado_1:\n",
        "  print(\"Há um triangulo\")\n",
        "else:\n",
        "  print(\"Não é um triangulo\")\n",
        "\n",
        "if lado_1 == lado_2 and lado_1 == lado_3:\n",
        "  print(\"É um triangulo equilátero\")\n",
        "elif lado_1 == lado_2 or lado_1 == lado_3 or lado_2 == lado_3:\n",
        "  print(\"É um triangulo isósceles\")\n",
        "else:\n",
        "  print(\"É um triangulo escaleno\")"
      ],
      "metadata": {
        "colab": {
          "base_uri": "https://localhost:8080/"
        },
        "id": "AOX_MUaJSN3p",
        "outputId": "e10f8844-a47f-4101-a98c-e9bf0392e93a"
      },
      "execution_count": null,
      "outputs": [
        {
          "output_type": "stream",
          "name": "stdout",
          "text": [
            "Lado 1: 23\n",
            "lado 2: 23\n",
            "Lado 3: 4\n",
            "Há um triangulo\n",
            "É um triangulo isósceles\n"
          ]
        }
      ]
    },
    {
      "cell_type": "code",
      "source": [
        "#Faça um Programa que leia um número inteiro menor que 1000 e imprima a quantidade de centenas, dezenas e unidades do mesmo.\n",
        "#Observando os termos no plural a colocação do \"e\", da vírgula entre outros. Exemplo:\n",
        "#326 = 3 centenas, 2 dezenas e 6 unidades\n",
        "import math\n",
        "menorQueMil = int(input(\"Número inteiro menor que 1000: \"))\n",
        "\n",
        "if menorQueMil >= 1000 or menorQueMil <= 0:\n",
        "  print(\"Número inválido!\")\n",
        "else:\n",
        "  centenas = math.trunc(menorQueMil/100)\n",
        "  restoCentenas = menorQueMil%100\n",
        "  dezenas = math.trunc(restoCentenas/10)\n",
        "  unidades= restoCentenas%10\n",
        "\n",
        "  print(f\"{centenas} centenas, {dezenas} dezenas e {unidades} unidades \" )"
      ],
      "metadata": {
        "colab": {
          "base_uri": "https://localhost:8080/"
        },
        "id": "hFjvcNhNUwoe",
        "outputId": "b6ace906-960f-42e2-a760-fd8420afc51d"
      },
      "execution_count": null,
      "outputs": [
        {
          "output_type": "stream",
          "name": "stdout",
          "text": [
            "Número inteiro menor que 1000: 200\n",
            "2 centenas, 0 dezenas e 0 unidades \n"
          ]
        }
      ]
    },
    {
      "cell_type": "code",
      "source": [
        "#Faça um Programa que peça um número e informe se o número é inteiro ou decimal. Dica: utilize uma função de arredondamento.\n",
        "\n",
        "numeroPreferido = float(input(\"Seu numero: \"))\n",
        "\n",
        "if numeroPreferido // 1 == numeroPreferido:\n",
        "  print(\"Numero inteiro\")\n",
        "else:\n",
        "  print(\"Numero decimal\")"
      ],
      "metadata": {
        "colab": {
          "base_uri": "https://localhost:8080/"
        },
        "id": "Eq2lo3JmYaiM",
        "outputId": "93749b83-27fa-43f0-962a-53029b2075f6"
      },
      "execution_count": null,
      "outputs": [
        {
          "output_type": "stream",
          "name": "stdout",
          "text": [
            "Seu numero: 5.5\n",
            "Numero decimal\n"
          ]
        }
      ]
    }
  ]
}