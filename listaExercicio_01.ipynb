{
  "nbformat": 4,
  "nbformat_minor": 0,
  "metadata": {
    "colab": {
      "provenance": [],
      "authorship_tag": "ABX9TyPelR9VMfWna5r5Jm58kQ42",
      "include_colab_link": true
    },
    "kernelspec": {
      "name": "python3",
      "display_name": "Python 3"
    },
    "language_info": {
      "name": "python"
    }
  },
  "cells": [
    {
      "cell_type": "markdown",
      "metadata": {
        "id": "view-in-github",
        "colab_type": "text"
      },
      "source": [
        "<a href=\"https://colab.research.google.com/github/carolSPassos/Estudando_Python/blob/main/listaExercicio_01.ipynb\" target=\"_parent\"><img src=\"https://colab.research.google.com/assets/colab-badge.svg\" alt=\"Open In Colab\"/></a>"
      ]
    },
    {
      "cell_type": "code",
      "execution_count": null,
      "metadata": {
        "colab": {
          "base_uri": "https://localhost:8080/"
        },
        "id": "AyFrPn_Dqu0u",
        "outputId": "0f5e43f2-29ed-474f-a90e-be2dc29216c1"
      },
      "outputs": [
        {
          "output_type": "stream",
          "name": "stdout",
          "text": [
            "Alo mundo\n"
          ]
        }
      ],
      "source": [
        "#Faça um Programa que mostre a mensagem \"Alo mundo\" na tela.\n",
        "\n",
        "print(\"Alo mundo\")"
      ]
    },
    {
      "cell_type": "code",
      "source": [
        "#Faça um Programa que peça um número e então mostre a mensagem O número informado foi [número].\n",
        "\n",
        "numero = int(input(\"Escreva um número inteiro: \"))\n",
        "\n",
        "mensagem = 'O número informado foi: '\n",
        "\n",
        "print(mensagem, numero)"
      ],
      "metadata": {
        "colab": {
          "base_uri": "https://localhost:8080/"
        },
        "id": "nJ31u34irG7z",
        "outputId": "5aab485b-4767-4886-95f0-52d6c4fa0956"
      },
      "execution_count": null,
      "outputs": [
        {
          "output_type": "stream",
          "name": "stdout",
          "text": [
            "Escreva um número inteiro: 23\n",
            "O número informado foi:  23\n"
          ]
        }
      ]
    },
    {
      "cell_type": "code",
      "source": [
        "#Faça um Programa que peça dois números e imprima a soma.\n",
        "\n",
        "numero1 = int(input(\"Primeiro numero: \"))\n",
        "numero2 = int(input(\"Segundo numero: \"))\n",
        "\n",
        "soma = numero1 + numero2\n",
        "\n",
        "print(\"soma dos números: \", soma)"
      ],
      "metadata": {
        "colab": {
          "base_uri": "https://localhost:8080/"
        },
        "id": "kKGVY3RKrfGz",
        "outputId": "3f36d679-64b1-4b19-c941-8a6544f77931"
      },
      "execution_count": null,
      "outputs": [
        {
          "output_type": "stream",
          "name": "stdout",
          "text": [
            "Primeiro numero: 5\n",
            "Segundo numero: 12\n",
            "soma dos números:  17\n"
          ]
        }
      ]
    },
    {
      "cell_type": "code",
      "source": [
        "#Faça um Programa que peça as 4 notas bimestrais e mostre a média.\n",
        "\n",
        "nota1 = float(input(\"Nota 1: \"))\n",
        "nota2 = float(input(\"Nota 2: \"))\n",
        "nota3 = float(input(\"Nota 3: \"))\n",
        "nota4 = float(input(\"Nota 4: \"))\n",
        "\n",
        "media = (nota1 + nota2 + nota3 + nota4) / 4\n",
        "\n",
        "print(\"Sua média é: %.1f\" %media)"
      ],
      "metadata": {
        "colab": {
          "base_uri": "https://localhost:8080/"
        },
        "id": "U66j-i4yr0-m",
        "outputId": "0daa858e-4587-4237-98ea-82ad305d7d5b"
      },
      "execution_count": null,
      "outputs": [
        {
          "output_type": "stream",
          "name": "stdout",
          "text": [
            "Nota 1: 6.5\n",
            "Nota 2: 4.3\n",
            "Nota 3: 7.8\n",
            "Nota 4: 10.0\n",
            "Sua média é: 7.2\n"
          ]
        }
      ]
    },
    {
      "cell_type": "code",
      "source": [
        "#Faça um Programa que converta metros para centímetros.\n",
        "\n",
        "tamanhoEmMetro = float(input(\"Qual tamanho em metro: \"))\n",
        "\n",
        "tamanhoEmCentimetro = tamanhoEmMetro * 100\n",
        "\n",
        "print(tamanhoEmCentimetro, \"cm\")"
      ],
      "metadata": {
        "colab": {
          "base_uri": "https://localhost:8080/"
        },
        "id": "5loHf0OSuJsn",
        "outputId": "f513a62e-2835-4f28-e48a-9adb43134f6b"
      },
      "execution_count": null,
      "outputs": [
        {
          "output_type": "stream",
          "name": "stdout",
          "text": [
            "Qual tamanho em metro: 1.50\n",
            "150.0 cm\n"
          ]
        }
      ]
    },
    {
      "cell_type": "code",
      "source": [
        "#Faça um Programa que peça o raio de um círculo, calcule e mostre sua área.\n",
        "\n",
        "raio = float(input(\"Qual o raio do círculo? \"))\n",
        "\n",
        "numeroDePi = 3.14159\n",
        "area = numeroDePi * (raio ** 2)\n",
        "\n",
        "print(\"A área é: %.2f\" %area)"
      ],
      "metadata": {
        "colab": {
          "base_uri": "https://localhost:8080/"
        },
        "id": "retvOFtTwVdJ",
        "outputId": "8925748f-ea8a-41de-8650-149ecff60425"
      },
      "execution_count": null,
      "outputs": [
        {
          "output_type": "stream",
          "name": "stdout",
          "text": [
            "Qual o raio do círculo? 4.0\n",
            "A área é: 50.27\n"
          ]
        }
      ]
    },
    {
      "cell_type": "code",
      "source": [
        "#Faça um Programa que calcule a área de um quadrado, em seguida mostre o dobro desta área para o usuário.\n",
        "\n",
        "lado = int(input(\"Qual o lado do quadrado? \"))\n",
        "\n",
        "area = lado * lado\n",
        "dobro = area * 2\n",
        "\n",
        "print(\"Dobro da área: \", dobro)"
      ],
      "metadata": {
        "colab": {
          "base_uri": "https://localhost:8080/"
        },
        "id": "n8ZqfaCm8LE5",
        "outputId": "60485ccc-c25e-4c6e-c8f1-c9ab99efe83a"
      },
      "execution_count": null,
      "outputs": [
        {
          "output_type": "stream",
          "name": "stdout",
          "text": [
            "Qual o lado do quadrado? 4\n",
            "Dobro da área:  32\n"
          ]
        }
      ]
    },
    {
      "cell_type": "code",
      "source": [
        "#Faça um Programa que pergunte quanto você ganha por hora e o número de horas trabalhadas no mês. \n",
        "#Calcule e mostre o total do seu salário no referido mês.\n",
        "\n",
        "recebePorHora = float(input(\"Quanto recebe por hora? \"))\n",
        "horaTrabalhada = float(input(\"Horas que trabalhou do mês: \"))\n",
        "\n",
        "salario = recebePorHora * horaTrabalhada\n",
        "\n",
        "print(\"Seu salário: R$ %.2f\" %salario)"
      ],
      "metadata": {
        "colab": {
          "base_uri": "https://localhost:8080/"
        },
        "id": "4wFG3nsW87bg",
        "outputId": "6ee4fb8b-52b0-479a-cc9b-9d73c65f8e57"
      },
      "execution_count": null,
      "outputs": [
        {
          "output_type": "stream",
          "name": "stdout",
          "text": [
            "Quanto recebe por hora? 120.5\n",
            "Horas que trabalhou do mês: 120\n",
            "Seu salário: R$ 14460.00\n"
          ]
        }
      ]
    },
    {
      "cell_type": "code",
      "source": [
        "#Faça um Programa que peça a temperatura em graus Fahrenheit, transforme e mostre a temperatura em graus Celsius.\n",
        "#C = 5 * ((F-32) / 9)\n",
        "\n",
        "tempFah = int(input(\"temperatura em Fahrenheint: \"))\n",
        "\n",
        "tempCelsius = 5 * ((tempFah - 32) / 9)\n",
        "\n",
        "print(\"Temperatura em Celsius: %.2f\" %tempCelsius,\"ºC\")"
      ],
      "metadata": {
        "colab": {
          "base_uri": "https://localhost:8080/"
        },
        "id": "Liln1wfD987A",
        "outputId": "0543aed5-332d-4d22-b9f9-d5190d4ae3b2"
      },
      "execution_count": null,
      "outputs": [
        {
          "output_type": "stream",
          "name": "stdout",
          "text": [
            "temperatura em Fahrenheint: 55\n",
            "Temperatura em Celsius: 12.78 ºC\n"
          ]
        }
      ]
    },
    {
      "cell_type": "code",
      "source": [
        "#Faça um Programa que peça a temperatura em graus Celsius, transforme e mostre em graus Fahrenheit.TC/5 = (TF – 32)/9,\n",
        "\n",
        "tempCelsius2 = float(input(\"Temperatura em Celsius: \"))\n",
        "\n",
        "tempFah2 = (tempCelsius2 * 1.8) + 32\n",
        "\n",
        "print(\"Temperatura em Fahrenheit é: \", tempFah2,\"ºF\")"
      ],
      "metadata": {
        "colab": {
          "base_uri": "https://localhost:8080/"
        },
        "id": "bbYy32fkA9BS",
        "outputId": "1000fb0d-d609-45c9-dfeb-1a79356b5f3f"
      },
      "execution_count": null,
      "outputs": [
        {
          "output_type": "stream",
          "name": "stdout",
          "text": [
            "Temperatura em Celsius: 12.78\n",
            "Temperatura em Fahrenheit é:  55.004 ºF\n"
          ]
        }
      ]
    },
    {
      "cell_type": "code",
      "source": [
        "#Faça um Programa que peça 2 números inteiros e um número real. Calcule e mostre:\n",
        "#a) o produto do dobro do primeiro com metade do segundo .\n",
        "#b) a soma do triplo do primeiro com o terceiro.\n",
        "#c) o terceiro elevado ao cubo.\n",
        "\n",
        "N1 = int(input(\"Numero inteiro 1: \"))\n",
        "N2 = int(input(\"Numero inteiro 2: \"))\n",
        "Nreal = float(input(\"Numero real: \"))\n",
        "\n",
        "dobroPrimeiro = N1 * 2\n",
        "triploPrimeiro = N1 * 3\n",
        "metadeSegundo = N2 / 2\n",
        "\n",
        "letraA =  dobroPrimeiro * metadeSegundo\n",
        "letraB = triploPrimeiro + Nreal\n",
        "letraC = Nreal ** 3\n",
        "\n",
        "print(\"O produto do dobro do primeiro com metade do segundo: \", letraA)\n",
        "print(\"a soma do triplo do primeiro com o terceiro: %.2f\" %letraB)\n",
        "print(\"o terceiro elevado ao cubo: %.2f\" %letraC)"
      ],
      "metadata": {
        "colab": {
          "base_uri": "https://localhost:8080/"
        },
        "id": "GGjlNJ6QCmkc",
        "outputId": "8464bcb4-f607-429f-c633-0451ebc0041f"
      },
      "execution_count": null,
      "outputs": [
        {
          "output_type": "stream",
          "name": "stdout",
          "text": [
            "Numero inteiro 1: 12\n",
            "Numero inteiro 2: 6\n",
            "Numero real: 22.5\n",
            "O produto do dobro do primeiro com metade do segundo:  72.0\n",
            "a soma do triplo do primeiro com o terceiro: 58.50\n",
            "o terceiro elevado ao cubo: 11390.62\n"
          ]
        }
      ]
    },
    {
      "cell_type": "code",
      "source": [
        "#Tendo como dados de entrada a altura de uma pessoa, construa um algoritmo que calcule seu peso ideal, usando a seguinte fórmula: (72.7*altura) - 58\n",
        "\n",
        "altura = float(input(\"Sua altura: \"))\n",
        "\n",
        "pesoIdeal = (72.7 * altura) - 58\n",
        "\n",
        "print(\"o peso ideal para essa altura é de %.1f\" %pesoIdeal,\"Kg\")"
      ],
      "metadata": {
        "id": "5D6j7fGiFT1J",
        "colab": {
          "base_uri": "https://localhost:8080/"
        },
        "outputId": "197c3d53-e9b1-4bb6-b38b-92b55fc4d155"
      },
      "execution_count": null,
      "outputs": [
        {
          "output_type": "stream",
          "name": "stdout",
          "text": [
            "Sua altura: 1.74\n",
            "o peso ideal para essa altura é de 68.5 Kg\n"
          ]
        }
      ]
    },
    {
      "cell_type": "code",
      "source": [
        "#Tendo como dado de entrada a altura (h) de uma pessoa, construa um algoritmo que calcule seu peso ideal, utilizando as seguintes fórmulas:\n",
        "#Para homens: (72.7*h) - 58\n",
        "#Para mulheres: (62.1*h) - 44.7\n",
        "\n",
        "altura = float(input(\"Sua altura: \"))\n",
        "genero = input(\"Você é homem ou mulher? \")\n",
        "\n",
        "if genero == \"homem\":\n",
        "  pesoIdeal = (72.7 * altura) - 58\n",
        "  print(\"Seu peso ideal é de %.1f\" %pesoIdeal,\"kg\")\n",
        "elif genero == \"mulher\":\n",
        "  pesoIdeal = (62.1 * altura - 44.7)\n",
        "  print(\"Seu peso ideal é de %.1f\" %pesoIdeal,\"kg\")"
      ],
      "metadata": {
        "colab": {
          "base_uri": "https://localhost:8080/"
        },
        "id": "sZWRe7QGFel0",
        "outputId": "840a87e2-6f4b-4774-e3da-a33ddf13f428"
      },
      "execution_count": null,
      "outputs": [
        {
          "output_type": "stream",
          "name": "stdout",
          "text": [
            "Sua altura: 1.60\n",
            "Você é homem ou mulher? mulher\n",
            "Seu peso ideal é de 54.7 kg\n"
          ]
        }
      ]
    },
    {
      "cell_type": "code",
      "source": [
        "#João Papo-de-Pescador, homem de bem, comprou um microcomputador para controlar o rendimento diário de seu trabalho. \n",
        "#Toda vez que ele traz um peso de peixes maior que o estabelecido pelo regulamento de pesca do estado de São Paulo (50 quilos) deve pagar uma multa de R$ 4,00 por quilo excedente. \n",
        "#João precisa que você faça um programa que leia a variável peso (peso de peixes) e calcule o excesso. \n",
        "#Gravar na variável excesso a quantidade de quilos além do limite e na variável multa o valor da multa que João deverá pagar. Imprima os dados do programa com as mensagens adequadas.\n",
        "\n",
        "pesoDoPeixe = float(input(\"Peso do peixe: \"))\n",
        "\n",
        "multaPorkg = 4.0\n",
        "pesoMedio = 50\n",
        "\n",
        "if pesoDoPeixe / pesoMedio < 1:\n",
        "  print(\"Não pagará multa\")\n",
        "elif pesoDoPeixe / pesoMedio > 1:\n",
        "  excesso = pesoDoPeixe % pesoMedio\n",
        "  multa = excesso * multaPorkg\n",
        "  print(\"Você pagará de multa R$ %.2f\" %multa)\n",
        "  "
      ],
      "metadata": {
        "colab": {
          "base_uri": "https://localhost:8080/"
        },
        "id": "1lC6epvFHfok",
        "outputId": "9871d9c8-58af-49e4-90af-e63b60aaf5b4"
      },
      "execution_count": null,
      "outputs": [
        {
          "output_type": "stream",
          "name": "stdout",
          "text": [
            "Peso do peixe: 52\n",
            "Você pagará de multa R$ 8.00\n"
          ]
        }
      ]
    },
    {
      "cell_type": "code",
      "source": [
        "#Faça um Programa que pergunte quanto você ganha por hora e o número de horas trabalhadas no mês. Calcule e mostre o total do seu salário no referido mês, \n",
        "#sabendo-se que são descontados 11% para o Imposto de Renda, 8% para o INSS e 5% para o sindicato, faça um programa que nos dê:\n",
        "# a) salário bruto. b) quanto pagou ao INSS. c) quanto pagou ao sindicato. d) o salário líquido.\n",
        "\n",
        "valorPorHora = float(input(\"Valor por hora de trabalho: \"))\n",
        "horasTrabalhadas = float(input(\"Quantas horas trabalhou no mês: \"))\n",
        "\n",
        "salarioBruto = valorPorHora * horasTrabalhadas\n",
        "\n",
        "pagoAoInss = salarioBruto - (salarioBruto * (1 - 0.08))\n",
        "sindicato = salarioBruto -  (salarioBruto * (1 - 0.05))\n",
        "ir =  salarioBruto - (salarioBruto * (1 - 0.11))\n",
        "\n",
        "descontos = pagoAoInss + sindicato +ir\n",
        "salarioLiquido = salarioBruto - descontos\n",
        "\n",
        "print(\"Seu salário bruto é: R$ %.2f\" %salarioBruto)\n",
        "print(\"Seu salário líquido é: R$ %.2f\" %salarioLiquido)"
      ],
      "metadata": {
        "colab": {
          "base_uri": "https://localhost:8080/"
        },
        "id": "q8dUUV6QKDEM",
        "outputId": "eb53509b-ece9-4c5b-9813-0b075d178841"
      },
      "execution_count": null,
      "outputs": [
        {
          "output_type": "stream",
          "name": "stdout",
          "text": [
            "Valor por hora de trabalho: 15.2\n",
            "Quantas horas trabalhou no mês: 160\n",
            "Seu salário bruto é: R$ 2432.00\n",
            "Seu salário líquido é: R$ 1848.32\n"
          ]
        }
      ]
    },
    {
      "cell_type": "code",
      "source": [
        "#Faça um programa para uma loja de tintas. O programa deverá pedir o tamanho em metros quadrados da área a ser pintada. \n",
        "#Considere que a cobertura da tinta é de 1 litro para cada 3 metros quadrados e que a tinta é vendida em latas de 18 litros, que custam R$ 80,00. \n",
        "#Informe ao usuário a quantidades de latas de tinta a serem compradas e o preço total.\n",
        "\n",
        "tamanhoM2 = float(input(\"tamanho em metro quadrado da área: \"))\n",
        "\n",
        "litroNecess = tamanhoM2 / 3\n",
        "litroPorLata = 18\n",
        "\n",
        "if litroNecess <= 18:\n",
        "  valorTotal = 80\n",
        "  print(\"Precisará de uma lata\")\n",
        "  print(\"Valor total é de: R$ %.2f\" %valorTotal)\n",
        "elif litroNecess > 18:\n",
        "  qtd = litroNecess / litroPorLata\n",
        "  valorTotal = round(qtd)* 80\n",
        "  print(\"Precisará de %.1f\" %qtd, \"latas\")\n",
        "  print(\"O valor total é de: R$ %.2f\" %valorTotal)"
      ],
      "metadata": {
        "colab": {
          "base_uri": "https://localhost:8080/"
        },
        "id": "W5E-rFtxRjuD",
        "outputId": "4442cc60-d1e5-495d-8bba-666b3a89fef9"
      },
      "execution_count": null,
      "outputs": [
        {
          "output_type": "stream",
          "name": "stdout",
          "text": [
            "tamanho em metro quadrado da área: 100\n",
            "Precisará de 1.9 latas\n",
            "O valor total é de: R$ 160.00\n"
          ]
        }
      ]
    },
    {
      "cell_type": "code",
      "source": [
        "\n",
        "#Faça um Programa para uma loja de tintas. O programa deverá pedir o tamanho em metros quadrados da área a ser pintada. \n",
        "#Considere que a cobertura da tinta é de 1 litro para cada 6 metros quadrados e que a tinta é vendida em latas de 18 litros, que custam R$ 80,00 ou em galões de 3,6 litros, \n",
        "#que custam R$ 25,00.Informe ao usuário as quantidades de tinta a serem compradas e os respectivos preços em 3 situações:\n",
        "#a) comprar apenas latas de 18 litros; b) comprar apenas galões de 3,6 litros; c) misturar latas e galões, de forma que o desperdício de tinta seja menor. \n",
        "#Acrescente 10% de folga e sempre arredonde os valores para cima, isto é, considere latas cheias.\n",
        "\n",
        "\n",
        "  \n"
      ],
      "metadata": {
        "id": "KNuDs-KkVevM",
        "colab": {
          "base_uri": "https://localhost:8080/"
        },
        "outputId": "a8debedf-703b-4677-c228-9dff64790ff6"
      },
      "execution_count": null,
      "outputs": [
        {
          "output_type": "stream",
          "name": "stdout",
          "text": [
            "tamanho em metro quadrado: 120\n",
            "precisará de  1 latas\n",
            "pagará R$ 80.00\n"
          ]
        }
      ]
    }
  ]
}